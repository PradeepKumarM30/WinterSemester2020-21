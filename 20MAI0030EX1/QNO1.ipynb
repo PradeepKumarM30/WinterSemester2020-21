{
  "nbformat": 4,
  "nbformat_minor": 0,
  "metadata": {
    "colab": {
      "name": "QNO1.ipynb",
      "provenance": [],
      "authorship_tag": "ABX9TyPeX4N0HZ2cGThpos83TQ3R",
      "include_colab_link": true
    },
    "kernelspec": {
      "name": "python3",
      "display_name": "Python 3"
    }
  },
  "cells": [
    {
      "cell_type": "markdown",
      "metadata": {
        "id": "view-in-github",
        "colab_type": "text"
      },
      "source": [
        "<a href=\"https://colab.research.google.com/github/PradeepKumarM30/WinterSemester2020-21/blob/DeepLearning/20MAI0030EX1/QNO1.ipynb\" target=\"_parent\"><img src=\"https://colab.research.google.com/assets/colab-badge.svg\" alt=\"Open In Colab\"/></a>"
      ]
    },
    {
      "cell_type": "code",
      "metadata": {
        "id": "w2QUrIgti6cZ"
      },
      "source": [
        "#Load Imports\r\n",
        "import numpy as np\r\n"
      ],
      "execution_count": 41,
      "outputs": []
    },
    {
      "cell_type": "code",
      "metadata": {
        "id": "X4CGAXHRjWIh"
      },
      "source": [
        "#Load Files - This file was created in local machine with some random inputs and not taken from any online dataset\r\n",
        "file = np.loadtxt(open(\"data.csv\", \"rb\"), delimiter=\",\", skiprows=1) "
      ],
      "execution_count": 42,
      "outputs": []
    },
    {
      "cell_type": "code",
      "metadata": {
        "colab": {
          "base_uri": "https://localhost:8080/"
        },
        "id": "iew_K-3wkJzc",
        "outputId": "b64b241e-9094-4b47-a677-33784fef32cc"
      },
      "source": [
        "#Visualising the data \r\n",
        "file"
      ],
      "execution_count": 43,
      "outputs": [
        {
          "output_type": "execute_result",
          "data": {
            "text/plain": [
              "array([[ 60. , 110. , 130. , 409.1,   1. ],\n",
              "       [ 60. , 117. , 145. , 479. ,   0. ],\n",
              "       [ 60. , 103. , 135. , 340. ,   1. ],\n",
              "       [ 45. , 109. , 175. , 282.4,   1. ],\n",
              "       [ 45. , 117. , 148. , 406. ,   1. ],\n",
              "       [ 60. , 102. , 127. , 300. ,   0. ],\n",
              "       [ 60. , 110. , 136. , 374. ,   0. ],\n",
              "       [ 45. , 104. , 134. , 253.3,   1. ],\n",
              "       [ 30. , 109. , 133. , 195.1,   0. ],\n",
              "       [ 60. ,  98. , 124. , 269. ,   1. ],\n",
              "       [ 60. , 103. , 147. , 329.3,   0. ],\n",
              "       [ 60. , 100. , 120. , 250.7,   1. ],\n",
              "       [ 60. , 106. , 128. , 345.3,   1. ],\n",
              "       [ 60. , 104. , 132. , 379.3,   1. ],\n",
              "       [ 60. ,  98. , 123. , 275. ,   1. ],\n",
              "       [ 60. ,  98. , 120. , 215.2,   1. ],\n",
              "       [ 60. , 100. , 120. , 300. ,   0. ],\n",
              "       [ 45. ,  90. , 112. , 222. ,   1. ],\n",
              "       [ 60. , 103. , 123. , 323. ,   1. ],\n",
              "       [ 45. ,  97. , 125. , 243. ,   1. ],\n",
              "       [ 60. , 108. , 131. , 364.2,   1. ],\n",
              "       [ 45. , 100. , 119. , 282. ,   0. ],\n",
              "       [ 60. , 130. , 101. , 300. ,   0. ],\n",
              "       [ 45. , 105. , 132. , 246. ,   0. ],\n",
              "       [ 60. , 102. , 126. , 334.5,   1. ],\n",
              "       [ 60. , 100. , 120. , 250. ,   1. ],\n",
              "       [ 60. ,  92. , 118. , 241. ,   0. ],\n",
              "       [ 60. , 103. , 132. , 111. ,   1. ],\n",
              "       [ 60. , 100. , 132. , 280. ,   1. ],\n",
              "       [ 60. , 102. , 129. , 380.3,   0. ],\n",
              "       [ 60. ,  92. , 115. , 243. ,   0. ],\n",
              "       [ 45. ,  90. , 112. , 180.1,   1. ],\n",
              "       [ 60. , 101. , 124. , 299. ,   1. ],\n",
              "       [ 60. ,  93. , 113. , 223. ,   0. ],\n",
              "       [ 60. , 107. , 136. , 361. ,   0. ],\n",
              "       [ 60. , 114. , 140. , 415. ,   1. ],\n",
              "       [ 60. , 102. , 127. , 300. ,   1. ],\n",
              "       [ 60. , 100. , 120. , 300. ,   1. ],\n",
              "       [ 60. , 100. , 120. , 300. ,   0. ],\n",
              "       [ 45. , 104. , 129. , 266. ,   0. ],\n",
              "       [ 45. ,  90. , 112. , 180.1,   0. ],\n",
              "       [ 60. ,  98. , 126. , 286. ,   1. ],\n",
              "       [ 60. , 100. , 122. , 329.4,   0. ],\n",
              "       [ 60. , 111. , 138. , 400. ,   0. ],\n",
              "       [ 60. , 111. , 131. , 397. ,   0. ],\n",
              "       [ 60. ,  99. , 119. , 273. ,   1. ],\n",
              "       [ 60. , 109. , 153. , 387.6,   0. ],\n",
              "       [ 45. , 111. , 136. , 300. ,   0. ],\n",
              "       [ 45. , 108. , 129. , 298. ,   1. ],\n",
              "       [ 60. , 111. , 139. , 397.6,   0. ]])"
            ]
          },
          "metadata": {
            "tags": []
          },
          "execution_count": 43
        }
      ]
    },
    {
      "cell_type": "code",
      "metadata": {
        "id": "CSyo-R7okYvp"
      },
      "source": [
        "#converting rows and columns to each other for vectorisation that will happen later in this code\r\n",
        "new_file = file.T"
      ],
      "execution_count": 44,
      "outputs": []
    },
    {
      "cell_type": "code",
      "metadata": {
        "colab": {
          "base_uri": "https://localhost:8080/"
        },
        "id": "XXx5DAfMkoY2",
        "outputId": "9ec258ad-f229-4dd8-baf4-872776bce0ae"
      },
      "source": [
        "#Now the new file looks like\r\n",
        "print(new_file)"
      ],
      "execution_count": 45,
      "outputs": [
        {
          "output_type": "stream",
          "text": [
            "[[ 60.   60.   60.   45.   45.   60.   60.   45.   30.   60.   60.   60.\n",
            "   60.   60.   60.   60.   60.   45.   60.   45.   60.   45.   60.   45.\n",
            "   60.   60.   60.   60.   60.   60.   60.   45.   60.   60.   60.   60.\n",
            "   60.   60.   60.   45.   45.   60.   60.   60.   60.   60.   60.   45.\n",
            "   45.   60. ]\n",
            " [110.  117.  103.  109.  117.  102.  110.  104.  109.   98.  103.  100.\n",
            "  106.  104.   98.   98.  100.   90.  103.   97.  108.  100.  130.  105.\n",
            "  102.  100.   92.  103.  100.  102.   92.   90.  101.   93.  107.  114.\n",
            "  102.  100.  100.  104.   90.   98.  100.  111.  111.   99.  109.  111.\n",
            "  108.  111. ]\n",
            " [130.  145.  135.  175.  148.  127.  136.  134.  133.  124.  147.  120.\n",
            "  128.  132.  123.  120.  120.  112.  123.  125.  131.  119.  101.  132.\n",
            "  126.  120.  118.  132.  132.  129.  115.  112.  124.  113.  136.  140.\n",
            "  127.  120.  120.  129.  112.  126.  122.  138.  131.  119.  153.  136.\n",
            "  129.  139. ]\n",
            " [409.1 479.  340.  282.4 406.  300.  374.  253.3 195.1 269.  329.3 250.7\n",
            "  345.3 379.3 275.  215.2 300.  222.  323.  243.  364.2 282.  300.  246.\n",
            "  334.5 250.  241.  111.  280.  380.3 243.  180.1 299.  223.  361.  415.\n",
            "  300.  300.  300.  266.  180.1 286.  329.4 400.  397.  273.  387.6 300.\n",
            "  298.  397.6]\n",
            " [  1.    0.    1.    1.    1.    0.    0.    1.    0.    1.    0.    1.\n",
            "    1.    1.    1.    1.    0.    1.    1.    1.    1.    0.    0.    0.\n",
            "    1.    1.    0.    1.    1.    0.    0.    1.    1.    0.    0.    1.\n",
            "    1.    1.    0.    0.    0.    1.    0.    0.    0.    1.    0.    0.\n",
            "    1.    0. ]]\n"
          ],
          "name": "stdout"
        }
      ]
    },
    {
      "cell_type": "code",
      "metadata": {
        "id": "y2Zmb6rjjbjd"
      },
      "source": [
        "#Assign train values \r\n",
        "X_train,Y_train = new_file[0:4:,0:50],new_file[4,0:50] #take the input data from file \r\n"
      ],
      "execution_count": 46,
      "outputs": []
    },
    {
      "cell_type": "code",
      "metadata": {
        "colab": {
          "base_uri": "https://localhost:8080/"
        },
        "id": "m25dFZmpjfHN",
        "outputId": "10f94d36-65cd-4a7b-de43-c39398bfa812"
      },
      "source": [
        "#input snapshot\r\n",
        "print(X_train,' ',Y_train)"
      ],
      "execution_count": 47,
      "outputs": [
        {
          "output_type": "stream",
          "text": [
            "[[ 60.   60.   60.   45.   45.   60.   60.   45.   30.   60.   60.   60.\n",
            "   60.   60.   60.   60.   60.   45.   60.   45.   60.   45.   60.   45.\n",
            "   60.   60.   60.   60.   60.   60.   60.   45.   60.   60.   60.   60.\n",
            "   60.   60.   60.   45.   45.   60.   60.   60.   60.   60.   60.   45.\n",
            "   45.   60. ]\n",
            " [110.  117.  103.  109.  117.  102.  110.  104.  109.   98.  103.  100.\n",
            "  106.  104.   98.   98.  100.   90.  103.   97.  108.  100.  130.  105.\n",
            "  102.  100.   92.  103.  100.  102.   92.   90.  101.   93.  107.  114.\n",
            "  102.  100.  100.  104.   90.   98.  100.  111.  111.   99.  109.  111.\n",
            "  108.  111. ]\n",
            " [130.  145.  135.  175.  148.  127.  136.  134.  133.  124.  147.  120.\n",
            "  128.  132.  123.  120.  120.  112.  123.  125.  131.  119.  101.  132.\n",
            "  126.  120.  118.  132.  132.  129.  115.  112.  124.  113.  136.  140.\n",
            "  127.  120.  120.  129.  112.  126.  122.  138.  131.  119.  153.  136.\n",
            "  129.  139. ]\n",
            " [409.1 479.  340.  282.4 406.  300.  374.  253.3 195.1 269.  329.3 250.7\n",
            "  345.3 379.3 275.  215.2 300.  222.  323.  243.  364.2 282.  300.  246.\n",
            "  334.5 250.  241.  111.  280.  380.3 243.  180.1 299.  223.  361.  415.\n",
            "  300.  300.  300.  266.  180.1 286.  329.4 400.  397.  273.  387.6 300.\n",
            "  298.  397.6]]   [1. 0. 1. 1. 1. 0. 0. 1. 0. 1. 0. 1. 1. 1. 1. 1. 0. 1. 1. 1. 1. 0. 0. 0.\n",
            " 1. 1. 0. 1. 1. 0. 0. 1. 1. 0. 0. 1. 1. 1. 0. 0. 0. 1. 0. 0. 0. 1. 0. 0.\n",
            " 1. 0.]\n"
          ],
          "name": "stdout"
        }
      ]
    },
    {
      "cell_type": "code",
      "metadata": {
        "id": "aWceNkdIj43T"
      },
      "source": [
        "#initialise weight and bias matrix\r\n",
        "def initialize_with_zeros(dim):\r\n",
        "   \r\n",
        "    w = np.zeros((dim,1))\r\n",
        "    b = 0\r\n",
        "   \r\n",
        "    assert(w.shape == (dim, 1))\r\n",
        "    assert(isinstance(b, float) or isinstance(b, int))\r\n",
        "    \r\n",
        "    return w, b"
      ],
      "execution_count": 48,
      "outputs": []
    },
    {
      "cell_type": "code",
      "metadata": {
        "id": "y2om7Qm-lwK-"
      },
      "source": [
        "#Sigmoid activation utility\r\n",
        "def sigmoid(z):\r\n",
        "   \r\n",
        "    s = 1/(1+(np.exp(-z)))\r\n",
        "    \r\n",
        "    return s"
      ],
      "execution_count": 49,
      "outputs": []
    },
    {
      "cell_type": "code",
      "metadata": {
        "id": "wWVRAyyLl1pP"
      },
      "source": [
        "#forward and backward propogation\r\n",
        "def propagate(w, b, X, Y):\r\n",
        "    \r\n",
        "    m = X.shape[1]\r\n",
        "    \r\n",
        "    A = sigmoid(np.dot(w.T,X)+b)                                   \r\n",
        "    cost = (-1/m) * (np.dot(Y,(np.log(A)).T) + np.dot(1-Y,(np.log(1-A)).T))                               \r\n",
        "    dw = np.dot(X,(A-Y).T)/m\r\n",
        "    db = (1/m) * np.sum(A-Y)\r\n",
        "\r\n",
        "    assert(dw.shape == w.shape)\r\n",
        "    assert(db.dtype == float)\r\n",
        "    cost = np.squeeze(cost)\r\n",
        "    assert(cost.shape == ())\r\n",
        "    \r\n",
        "    grads = {\"dw\": dw,\r\n",
        "             \"db\": db}\r\n",
        "    \r\n",
        "    return grads, cost"
      ],
      "execution_count": 50,
      "outputs": []
    },
    {
      "cell_type": "code",
      "metadata": {
        "id": "dX-pNz3yl8pH"
      },
      "source": [
        "#doing the computations\r\n",
        "def optimize(w, b, X, Y, num_iterations, learning_rate, print_cost = False):\r\n",
        "    \r\n",
        "    costs = []\r\n",
        "    \r\n",
        "    for i in range(num_iterations):\r\n",
        "        grads, cost = propagate(w,b,X,Y)\r\n",
        "        \r\n",
        "        dw = grads[\"dw\"]\r\n",
        "        db = grads[\"db\"]\r\n",
        "        \r\n",
        "        w = w - (learning_rate * dw)\r\n",
        "        b = b - (learning_rate * db)\r\n",
        "        \r\n",
        "        if i % 100 == 0:\r\n",
        "            costs.append(cost)\r\n",
        "        \r\n",
        "        if print_cost and i % 10 == 0:\r\n",
        "            print (\"Cost after iteration %i: %f\" %(i, cost))\r\n",
        "    \r\n",
        "    params = {\"w\": w,\r\n",
        "              \"b\": b}\r\n",
        "    \r\n",
        "    grads = {\"dw\": dw,\r\n",
        "             \"db\": db}\r\n",
        "    \r\n",
        "    return params, grads, costs"
      ],
      "execution_count": 51,
      "outputs": []
    },
    {
      "cell_type": "code",
      "metadata": {
        "id": "eW8nGdgymDd4"
      },
      "source": [
        "#Perceptron driver code\r\n",
        "def perceptron(X_train, Y_train, num_iterations, learning_rate = 0.5):\r\n",
        "   \r\n",
        "    w,b = initialize_with_zeros(X_train.shape[0])\r\n",
        "\r\n",
        "    parameters, grads, costs = optimize(w, b, X_train, Y_train, num_iterations, learning_rate)\r\n",
        "    \r\n",
        "    w = parameters[\"w\"]\r\n",
        "    b = parameters[\"b\"]\r\n",
        "    \r\n",
        "#    Y_prediction_test = predict(w, b, X_test)\r\n",
        "    Y_prediction_train = predict(w, b, X_train)\r\n",
        "\r\n",
        "    print(\"train accuracy: {} %\".format(100 - np.mean(np.abs(Y_prediction_train - Y_train)) * 100))\r\n",
        "#    print(\"test accuracy: {} %\".format(100 - np.mean(np.abs(Y_prediction_test - Y_test)) * 100))\r\n",
        "\r\n",
        "    \r\n",
        "    d = {\"costs\": costs, \r\n",
        "         \"Y_prediction_train\" : Y_prediction_train, \r\n",
        "         \"w\" : w, \r\n",
        "         \"b\" : b,\r\n",
        "         \"learning_rate\" : learning_rate,\r\n",
        "         \"num_iterations\": num_iterations}\r\n",
        "    \r\n",
        "    return d\r\n"
      ],
      "execution_count": 52,
      "outputs": []
    },
    {
      "cell_type": "code",
      "metadata": {
        "id": "-M9ffTXpmITf"
      },
      "source": [
        "#function to predict models performance\r\n",
        "def predict(w, b, X):\r\n",
        "    \r\n",
        "    m = X.shape[1]\r\n",
        "    Y_prediction = np.zeros((1,m))\r\n",
        "    w = w.reshape(X.shape[0], 1)\r\n",
        "    \r\n",
        "    A = sigmoid(np.dot(w.T,X)+b)\r\n",
        "    \r\n",
        "    for i in range(A.shape[1]):\r\n",
        "        Y_prediction[:,i] = 1 if A[:,i] > 0.52 else 0\r\n",
        "    \r\n",
        "    assert(Y_prediction.shape == (1, m))\r\n",
        "    \r\n",
        "    return Y_prediction"
      ],
      "execution_count": 53,
      "outputs": []
    },
    {
      "cell_type": "code",
      "metadata": {
        "id": "_0o2SeM0mq3j"
      },
      "source": [
        "#Normalising inputs for better performance\r\n",
        "x_new_train = np.zeros(X_train.shape)\r\n",
        "for i in range(X_train.shape[1]):\r\n",
        "  x_new_train[:,i] = (X_train[:,i] - np.min(X_train[:,i]))/(np.max(X_train[:,i]) - np.min(X_train[:,i]))\r\n"
      ],
      "execution_count": 54,
      "outputs": []
    },
    {
      "cell_type": "code",
      "metadata": {
        "colab": {
          "base_uri": "https://localhost:8080/"
        },
        "id": "GgEFmatUmP0A",
        "outputId": "2086cc7b-7342-47bf-fc71-fbb518156f34"
      },
      "source": [
        "#the main driver code\r\n",
        "print(\" M PRADEEP KUMAR - 20MAI0030\")\r\n",
        "output_dict = perceptron(x_new_train,Y_train,2000,0.2)\r\n",
        "print(output_dict)"
      ],
      "execution_count": 55,
      "outputs": [
        {
          "output_type": "stream",
          "text": [
            " M PRADEEP KUMAR - 20MAI0030\n",
            "train accuracy: 60.0 %\n",
            "{'costs': [array(0.69314718), array(0.68844211), array(0.68725759), array(0.68629242), array(0.68549742), array(0.6848348), array(0.68427558), array(0.68379745), array(0.68338324), array(0.68301966), array(0.68269638), array(0.68240533), array(0.68214022), array(0.68189606), array(0.68166895), array(0.68145577), array(0.68125406), array(0.68106182), array(0.68087749), array(0.68069979)], 'Y_prediction_train': array([[0., 0., 1., 1., 1., 1., 0., 1., 1., 1., 1., 1., 0., 0., 1., 1.,\n",
            "        0., 1., 0., 1., 0., 1., 0., 1., 0., 1., 1., 1., 1., 0., 1., 1.,\n",
            "        1., 1., 0., 0., 1., 0., 0., 1., 1., 1., 0., 0., 0., 1., 1., 1.,\n",
            "        1., 0.]]), 'w': array([[ 0.        ],\n",
            "       [-0.27072328],\n",
            "       [ 1.65475943],\n",
            "       [-0.49120078]]), 'b': 0.17886352064876435, 'learning_rate': 0.2, 'num_iterations': 2000}\n"
          ],
          "name": "stdout"
        }
      ]
    },
    {
      "cell_type": "code",
      "metadata": {
        "id": "-fo3zZXOmgBt"
      },
      "source": [
        "#The dataset for Question 1 will be provided in the github. Rename the dataset to data.csv if it is not in that name. Place it in the Content folder in Colab"
      ],
      "execution_count": null,
      "outputs": []
    }
  ]
}