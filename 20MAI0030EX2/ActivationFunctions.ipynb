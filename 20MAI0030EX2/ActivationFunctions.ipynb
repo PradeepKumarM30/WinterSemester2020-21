{
  "nbformat": 4,
  "nbformat_minor": 0,
  "metadata": {
    "colab": {
      "name": "ActivationFunctions.ipynb",
      "provenance": [],
      "authorship_tag": "ABX9TyPftHNjuZe1FGSkwicJDQ6s",
      "include_colab_link": true
    },
    "kernelspec": {
      "name": "python3",
      "display_name": "Python 3"
    }
  },
  "cells": [
    {
      "cell_type": "markdown",
      "metadata": {
        "id": "view-in-github",
        "colab_type": "text"
      },
      "source": [
        "<a href=\"https://colab.research.google.com/github/PradeepKumarM30/WinterSemester2020-21/blob/DeepLearning/20MAI0030EX2/ActivationFunctions.ipynb\" target=\"_parent\"><img src=\"https://colab.research.google.com/assets/colab-badge.svg\" alt=\"Open In Colab\"/></a>"
      ]
    },
    {
      "cell_type": "markdown",
      "metadata": {
        "id": "yzWF-sgNJKtp"
      },
      "source": [
        "# **Add Neccesary Imports**"
      ]
    },
    {
      "cell_type": "code",
      "metadata": {
        "id": "gXYdM9fDmUlX"
      },
      "source": [
        "import numpy as np\r\n",
        "import matplotlib.pyplot as plt\r\n"
      ],
      "execution_count": null,
      "outputs": []
    },
    {
      "cell_type": "markdown",
      "metadata": {
        "id": "OLgSG_wfJP_f"
      },
      "source": [
        "# **Q.NO.1 . Demonstarte the Activations Functions**"
      ]
    },
    {
      "cell_type": "markdown",
      "metadata": {
        "id": "zsmMyQrOJYlT"
      },
      "source": [
        "# **Sigmoid**"
      ]
    },
    {
      "cell_type": "code",
      "metadata": {
        "id": "CPVsH9IBnE3X"
      },
      "source": [
        "def sigmoid(z):\r\n",
        "   \r\n",
        "    s = 1/(1+(np.exp(-z)))\r\n",
        "    \r\n",
        "    return s"
      ],
      "execution_count": null,
      "outputs": []
    },
    {
      "cell_type": "markdown",
      "metadata": {
        "id": "IQpApum2JcHq"
      },
      "source": [
        "# **Tanh**"
      ]
    },
    {
      "cell_type": "code",
      "metadata": {
        "id": "q46zifcenHT9"
      },
      "source": [
        "def tanh(z):\r\n",
        "  s = (np.exp(z) - np.exp(-z))/ (np.exp(z) + np.exp(-z))\r\n",
        "\r\n",
        "  return s"
      ],
      "execution_count": null,
      "outputs": []
    },
    {
      "cell_type": "markdown",
      "metadata": {
        "id": "CJ2L7S87Je06"
      },
      "source": [
        "# **Relu and Leaky Relu**"
      ]
    },
    {
      "cell_type": "code",
      "metadata": {
        "id": "TqBdDK19oJqr"
      },
      "source": [
        "def relu(z):\r\n",
        "  maxSelector = lambda t: np.maximum(0,t)\r\n",
        "  s = np.array([maxSelector(val) for val in z])\r\n",
        "  return s "
      ],
      "execution_count": null,
      "outputs": []
    },
    {
      "cell_type": "code",
      "metadata": {
        "id": "hDZ1r3Lxojzk"
      },
      "source": [
        "def leakyRelu(z):\r\n",
        "  maxSelector = lambda t: np.maximum(0.1*t,t)\r\n",
        "  s = np.array([maxSelector(val) for val in z])\r\n",
        "  return s "
      ],
      "execution_count": null,
      "outputs": []
    },
    {
      "cell_type": "markdown",
      "metadata": {
        "id": "EdxpT--uJjJO"
      },
      "source": [
        "# **Visulaise Them**"
      ]
    },
    {
      "cell_type": "code",
      "metadata": {
        "colab": {
          "base_uri": "https://localhost:8080/",
          "height": 264
        },
        "id": "aVnpMPKIo-W_",
        "outputId": "bee9bcb6-ac66-4d94-b9c3-19c46538a3bb"
      },
      "source": [
        "sampleArray = np.arange(-5,5,0.5)\r\n",
        "yVal = sigmoid(sampleArray)\r\n",
        "plt.plot(sampleArray,yVal)\r\n",
        "plt.legend(['Sigmoid'])\r\n",
        "plt.show()"
      ],
      "execution_count": null,
      "outputs": [
        {
          "output_type": "display_data",
          "data": {
            "image/png": "[encoded data removed]",
            "text/plain": [
              "<Figure size 432x288 with 1 Axes>"
            ]
          },
          "metadata": {
            "tags": [],
            "needs_background": "light"
          }
        }
      ]
    },
    {
      "cell_type": "code",
      "metadata": {
        "colab": {
          "base_uri": "https://localhost:8080/",
          "height": 264
        },
        "id": "Kf9zUEbRp1zT",
        "outputId": "717c1c33-0f58-4431-bea0-3851a4dcf912"
      },
      "source": [
        "sampleArray = np.arange(-5,5,0.5)\r\n",
        "yVal = tanh(sampleArray)\r\n",
        "plt.plot(sampleArray,yVal)\r\n",
        "plt.legend(['tanh'])\r\n",
        "plt.show()"
      ],
      "execution_count": null,
      "outputs": [
        {
          "output_type": "display_data",
          "data": {
            "image/png": "[encoded data removed]",
            "text/plain": [
              "<Figure size 432x288 with 1 Axes>"
            ]
          },
          "metadata": {
            "tags": [],
            "needs_background": "light"
          }
        }
      ]
    },
    {
      "cell_type": "code",
      "metadata": {
        "colab": {
          "base_uri": "https://localhost:8080/",
          "height": 264
        },
        "id": "QdHM7Dq0r6R-",
        "outputId": "cce45ea4-ff8a-4a68-cdcf-08c896a23737"
      },
      "source": [
        "sampleArray = np.arange(-50,50,1)\r\n",
        "yVal = relu(sampleArray)\r\n",
        "plt.plot(sampleArray,yVal)\r\n",
        "plt.legend(['relu'])\r\n",
        "plt.show()"
      ],
      "execution_count": null,
      "outputs": [
        {
          "output_type": "display_data",
          "data": {
            "image/png": "[encoded data removed]",
            "text/plain": [
              "<Figure size 432x288 with 1 Axes>"
            ]
          },
          "metadata": {
            "tags": [],
            "needs_background": "light"
          }
        }
      ]
    },
    {
      "cell_type": "code",
      "metadata": {
        "colab": {
          "base_uri": "https://localhost:8080/",
          "height": 264
        },
        "id": "ah3_GJS2vzg8",
        "outputId": "e720025d-6e3c-43b3-906b-e00faa14e381"
      },
      "source": [
        "sampleArray = np.arange(-50,50,1)\r\n",
        "yVal = leakyRelu(sampleArray)\r\n",
        "plt.plot(sampleArray,yVal)\r\n",
        "plt.legend(['Leakyrelu'])\r\n",
        "plt.show()"
      ],
      "execution_count": null,
      "outputs": [
        {
          "output_type": "display_data",
          "data": {
            "image/png": "[encoded data removed]",
            "text/plain": [
              "<Figure size 432x288 with 1 Axes>"
            ]
          },
          "metadata": {
            "tags": [],
            "needs_background": "light"
          }
        }
      ]
    },
    {
      "cell_type": "code",
      "metadata": {
        "id": "UI_EGS3wyV8z"
      },
      "source": [
        ""
      ],
      "execution_count": null,
      "outputs": []
    }
  ]
}