{
  "nbformat": 4,
  "nbformat_minor": 0,
  "metadata": {
    "colab": {
      "name": "LeNetCNN.ipynb",
      "provenance": [],
      "authorship_tag": "ABX9TyPIcD+CCZTGRaGD7VizcISA",
      "include_colab_link": true
    },
    "kernelspec": {
      "name": "python3",
      "display_name": "Python 3"
    },
    "language_info": {
      "name": "python"
    }
  },
  "cells": [
    {
      "cell_type": "markdown",
      "metadata": {
        "id": "view-in-github",
        "colab_type": "text"
      },
      "source": [
        "<a href=\"https://colab.research.google.com/github/PradeepKumarM30/WinterSemester2020-21/blob/DeepLearning/20MAI0030EX3/LeNetCNN.ipynb\" target=\"_parent\"><img src=\"https://colab.research.google.com/assets/colab-badge.svg\" alt=\"Open In Colab\"/></a>"
      ]
    },
    {
      "cell_type": "markdown",
      "metadata": {
        "id": "maVrlGtxrzeY"
      },
      "source": [
        "# **2.Write a program to implement the new CNN model. The model should contains following things : (Note : use any grayscale dataset with the 10 classes)**"
      ]
    },
    {
      "cell_type": "markdown",
      "metadata": {
        "id": "SmN3kNdBr7dm"
      },
      "source": [
        "# **Load Neccessary Imports**"
      ]
    },
    {
      "cell_type": "code",
      "metadata": {
        "id": "6648SAK1NEYM"
      },
      "source": [
        "import cv2\n",
        "import numpy as np\n",
        "import matplotlib.pyplot as plt\n",
        "from keras.datasets import cifar10\n",
        "from sklearn.preprocessing import OneHotEncoder\n",
        "from sklearn.metrics import confusion_matrix\n",
        "from keras.layers import Conv2D, MaxPool2D, Flatten, Dense, Dropout, AveragePooling2D\n",
        "from keras.models import Sequential, load_model\n",
        "from keras.callbacks import EarlyStopping"
      ],
      "execution_count": 44,
      "outputs": []
    },
    {
      "cell_type": "markdown",
      "metadata": {
        "id": "eWiPxAYTsAiB"
      },
      "source": [
        "# **Train / Test Split**"
      ]
    },
    {
      "cell_type": "code",
      "metadata": {
        "id": "10P8w4sBNIfH"
      },
      "source": [
        "(X_train, y_train), (X_test, y_test) = cifar10.load_data()\n"
      ],
      "execution_count": 45,
      "outputs": []
    },
    {
      "cell_type": "markdown",
      "metadata": {
        "id": "KbWLhVhwsFUi"
      },
      "source": [
        "# **Verify dimensions and do hot encoding for the targets**"
      ]
    },
    {
      "cell_type": "code",
      "metadata": {
        "colab": {
          "base_uri": "https://localhost:8080/"
        },
        "id": "5xrOFjv3NNQI",
        "outputId": "5987cf7b-1a60-4181-d056-2a2af451f0bf"
      },
      "source": [
        "print(X_train.shape, \" \", y_train.shape,\" \",X_test.shape,\" \",y_test.shape)"
      ],
      "execution_count": 46,
      "outputs": [
        {
          "output_type": "stream",
          "text": [
            "(50000, 32, 32, 3)   (50000, 1)   (10000, 32, 32, 3)   (10000, 1)\n"
          ],
          "name": "stdout"
        }
      ]
    },
    {
      "cell_type": "code",
      "metadata": {
        "colab": {
          "base_uri": "https://localhost:8080/"
        },
        "id": "Q3caRKnITNz9",
        "outputId": "61638425-cd02-4726-d243-dd2ad1bf8e2c"
      },
      "source": [
        "from keras.utils import to_categorical\n",
        "\n",
        "\n",
        "# one hot encode target values\n",
        "y_train = to_categorical(y_train)\n",
        "y_test = to_categorical(y_test)\n",
        "print(X_train.shape, \" \", y_train.shape,\" \",X_test.shape,\" \",y_test.shape)"
      ],
      "execution_count": 47,
      "outputs": [
        {
          "output_type": "stream",
          "text": [
            "(50000, 32, 32, 3)   (50000, 10)   (10000, 32, 32, 3)   (10000, 10)\n"
          ],
          "name": "stdout"
        }
      ]
    },
    {
      "cell_type": "markdown",
      "metadata": {
        "id": "To3RyggPsMQJ"
      },
      "source": [
        "# **Convert RGB to GrayScale**"
      ]
    },
    {
      "cell_type": "code",
      "metadata": {
        "id": "6qF0QD0CNb7l"
      },
      "source": [
        "X_train_grayscale = np.zeros(X_train.shape[:-1])\n",
        "X_test_grayscale = np.zeros(X_test.shape[:-1])\n",
        "\n",
        "for i in range(X_train.shape[0]): \n",
        "    X_train_grayscale[i] = cv2.cvtColor(X_train[i], cv2.COLOR_BGR2GRAY) \n",
        "for i in range(X_test.shape[0]): \n",
        "    X_test_grayscale[i] = cv2.cvtColor(X_test[i], cv2.COLOR_BGR2GRAY)"
      ],
      "execution_count": 48,
      "outputs": []
    },
    {
      "cell_type": "code",
      "metadata": {
        "colab": {
          "base_uri": "https://localhost:8080/"
        },
        "id": "sJCPcPRhNiQA",
        "outputId": "489b3f84-7886-41ea-8549-006efc76b80f"
      },
      "source": [
        "print(X_train_grayscale.shape, \" \", y_train.shape,\" \",X_test_grayscale.shape,\" \",y_test.shape)"
      ],
      "execution_count": 49,
      "outputs": [
        {
          "output_type": "stream",
          "text": [
            "(50000, 32, 32)   (50000, 10)   (10000, 32, 32)   (10000, 10)\n"
          ],
          "name": "stdout"
        }
      ]
    },
    {
      "cell_type": "markdown",
      "metadata": {
        "id": "Y8ZA68p3sRzJ"
      },
      "source": [
        "# **Reshape to match the input size of the model**"
      ]
    },
    {
      "cell_type": "code",
      "metadata": {
        "id": "yeVYn_j2WH9s"
      },
      "source": [
        "X_train_grayscale = X_train_grayscale.reshape(-1, 32, 32, 1)\n",
        "X_test_grayscale = X_test_grayscale.reshape(-1, 32, 32, 1)\n"
      ],
      "execution_count": 50,
      "outputs": []
    },
    {
      "cell_type": "markdown",
      "metadata": {
        "id": "vxl0idCwsXFq"
      },
      "source": [
        "# **Define and fit the model**"
      ]
    },
    {
      "cell_type": "code",
      "metadata": {
        "colab": {
          "base_uri": "https://localhost:8080/"
        },
        "id": "rA7FBF8kQ6Dw",
        "outputId": "7c359ded-07c7-4989-b3a1-7da464d242a3"
      },
      "source": [
        "model = Sequential()\n",
        "\n",
        "model.add(Conv2D(filters=6, kernel_size=(3, 3), activation='relu', input_shape=(32,32,1)))\n",
        "model.add(AveragePooling2D())\n",
        "\n",
        "model.add(Conv2D(filters=16, kernel_size=(3, 3), activation='relu'))\n",
        "model.add(AveragePooling2D())\n",
        "\n",
        "model.add(Flatten())\n",
        "\n",
        "model.add(Dense(units=120, activation='relu'))\n",
        "\n",
        "model.add(Dense(units=84, activation='relu'))\n",
        "\n",
        "model.add(Dense(units=10, activation = 'softmax'))\n",
        "\n",
        "model.summary\n",
        "\n",
        "model.compile(loss='categorical_crossentropy', optimizer='adam',metrics=['accuracy'])\n",
        "\n",
        "model.fit(X_train_grayscale, y_train, batch_size=64, epochs=10, verbose=1, shuffle=True)\n"
      ],
      "execution_count": 51,
      "outputs": [
        {
          "output_type": "stream",
          "text": [
            "Epoch 1/10\n",
            "782/782 [==============================] - 20s 24ms/step - loss: 2.3591 - accuracy: 0.2899\n",
            "Epoch 2/10\n",
            "782/782 [==============================] - 19s 24ms/step - loss: 1.4156 - accuracy: 0.5075\n",
            "Epoch 3/10\n",
            "782/782 [==============================] - 19s 25ms/step - loss: 1.2584 - accuracy: 0.5646\n",
            "Epoch 4/10\n",
            "782/782 [==============================] - 19s 24ms/step - loss: 1.1567 - accuracy: 0.6034\n",
            "Epoch 5/10\n",
            "782/782 [==============================] - 19s 24ms/step - loss: 1.0874 - accuracy: 0.6254\n",
            "Epoch 6/10\n",
            "782/782 [==============================] - 19s 24ms/step - loss: 1.0130 - accuracy: 0.6492\n",
            "Epoch 7/10\n",
            "782/782 [==============================] - 19s 24ms/step - loss: 0.9661 - accuracy: 0.6673\n",
            "Epoch 8/10\n",
            "782/782 [==============================] - 19s 24ms/step - loss: 0.9005 - accuracy: 0.6900\n",
            "Epoch 9/10\n",
            "782/782 [==============================] - 19s 24ms/step - loss: 0.8523 - accuracy: 0.7064\n",
            "Epoch 10/10\n",
            "782/782 [==============================] - 19s 24ms/step - loss: 0.7935 - accuracy: 0.7214\n"
          ],
          "name": "stdout"
        },
        {
          "output_type": "execute_result",
          "data": {
            "text/plain": [
              "<tensorflow.python.keras.callbacks.History at 0x7fd5da233510>"
            ]
          },
          "metadata": {
            "tags": []
          },
          "execution_count": 51
        }
      ]
    },
    {
      "cell_type": "markdown",
      "metadata": {
        "id": "7UpJPw_Xse5R"
      },
      "source": [
        "# **Testing accuracy**"
      ]
    },
    {
      "cell_type": "code",
      "metadata": {
        "colab": {
          "base_uri": "https://localhost:8080/"
        },
        "id": "Xf72iaUYVFj5",
        "outputId": "0fe34a21-c4d4-4f7b-d62c-33c6ebc7ee5f"
      },
      "source": [
        "score,acc = model.evaluate(X_test_grayscale, y_test)\n",
        "print(\"Accuracy:\",acc)"
      ],
      "execution_count": 52,
      "outputs": [
        {
          "output_type": "stream",
          "text": [
            "313/313 [==============================] - 2s 7ms/step - loss: 1.1849 - accuracy: 0.6079\n",
            "Accuracy: 0.6079000234603882\n"
          ],
          "name": "stdout"
        }
      ]
    },
    {
      "cell_type": "code",
      "metadata": {
        "id": "EHfqf8ciseN-"
      },
      "source": [
        ""
      ],
      "execution_count": null,
      "outputs": []
    }
  ]
}